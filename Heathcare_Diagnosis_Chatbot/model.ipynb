{
  "nbformat": 4,
  "nbformat_minor": 0,
  "metadata": {
    "colab": {
      "provenance": []
    },
    "kernelspec": {
      "name": "python3",
      "display_name": "Python 3"
    },
    "language_info": {
      "name": "python"
    }
  },
  "cells": [
    {
      "cell_type": "code",
      "source": [
        "#importing all the necessary libraries and modules\n",
        "import joblib\n",
        "import pandas as pd\n",
        "import numpy as np\n",
        "import matplotlib.pyplot as plt\n",
        "from sklearn.model_selection import train_test_split,KFold,cross_val_score,GridSearchCV\n",
        "from sklearn.svm import SVC\n",
        "from sklearn.metrics import f1_score, accuracy_score, confusion_matrix,classification_report,ConfusionMatrixDisplay,precision_score,roc_curve\n",
        "import seaborn as sns\n",
        "from sklearn.utils import shuffle\n",
        "from ydata_profiling import ProfileReport\n",
        "from sklearn.ensemble import RandomForestClassifier\n",
        "from sklearn.ensemble import BaggingClassifier, AdaBoostClassifier, VotingClassifier\n",
        "from sklearn.naive_bayes import GaussianNB\n",
        "from sklearn.tree import DecisionTreeClassifier\n",
        "from sklearn import metrics"
      ],
      "metadata": {
        "id": "eM9i52GsuySj"
      },
      "execution_count": null,
      "outputs": []
    },
    {
      "cell_type": "code",
      "source": [
        "#Loading and Preprocessing the Data\n",
        "df = pd.read_csv('dataset.csv')\n",
        "df = shuffle(df,random_state=42)\n",
        "df.head()"
      ],
      "metadata": {
        "id": "HHcAEgkau3ih"
      },
      "execution_count": null,
      "outputs": []
    },
    {
      "cell_type": "code",
      "source": [
        "#Column Name Cleaning\n",
        "for col in df.columns:\n",
        "    df[col] = df[col].str.replace('_',' ')\n",
        "df.head()"
      ],
      "metadata": {
        "id": "3QJaJdscvXT9"
      },
      "execution_count": null,
      "outputs": []
    },
    {
      "cell_type": "code",
      "source": [
        "#Data Summary\n",
        "df.describe()"
      ],
      "metadata": {
        "id": "bDRCwHmzvdUM"
      },
      "execution_count": null,
      "outputs": []
    },
    {
      "cell_type": "code",
      "source": [
        "#Null Value Check\n",
        "null_checker = df.apply(lambda x: sum(x.isnull())).to_frame(name='count')\n",
        "print(null_checker)"
      ],
      "metadata": {
        "id": "qU_U5-O8vn5k"
      },
      "execution_count": null,
      "outputs": []
    },
    {
      "cell_type": "code",
      "source": [
        "#Visualizing Missing Values\n",
        "plt.figure(figsize=(10,5))\n",
        "plt.plot(null_checker.index, null_checker['count'])\n",
        "plt.xticks(null_checker.index, null_checker.index, rotation=45,\n",
        "horizontalalignment='right')\n",
        "plt.title('Before removing Null values')\n",
        "plt.xlabel('column names')\n",
        "plt.margins(0.1)\n",
        "plt.show()"
      ],
      "metadata": {
        "id": "cnUcSTW4vqcI"
      },
      "execution_count": null,
      "outputs": []
    },
    {
      "cell_type": "code",
      "source": [
        "#Trimming Whitespaces and Filling Missing Values\n",
        "cols = df.columns\n",
        "data = df[cols].values.flatten()\n",
        "s = pd.Series(data)\n",
        "s = s.str.strip()\n",
        "s = s.values.reshape(df.shape)\n",
        "df = pd.DataFrame(s, columns=df.columns)\n",
        "df.head()\n",
        "df = df.fillna(0)\n",
        "df.head()"
      ],
      "metadata": {
        "id": "4jMHkGDevv-s"
      },
      "execution_count": null,
      "outputs": []
    },
    {
      "cell_type": "markdown",
      "source": [
        "Mapping Symptoms to Severity Weights"
      ],
      "metadata": {
        "id": "G2ui9rZy4JtY"
      }
    },
    {
      "cell_type": "code",
      "source": [
        "#Loading Severity Data\n",
        "df1 = pd.read_csv('Symptom-severity.csv')\n",
        "df1['Symptom'] = df1['Symptom'].str.replace('_',' ')\n",
        "df1.head()\n",
        "df1['Symptom'].unique()"
      ],
      "metadata": {
        "id": "aGKPvWIlv6gi"
      },
      "execution_count": null,
      "outputs": []
    },
    {
      "cell_type": "code",
      "source": [
        "#Mapping Severity Weights\n",
        "vals = df.values\n",
        "symptoms = df1['Symptom'].unique()\n",
        "for i in range(len(symptoms)):\n",
        "    vals[vals == symptoms[i]] = df1[df1['Symptom'] == symptoms[i]]['weight'].values[0]\n",
        "\n",
        "d = pd.DataFrame(vals, columns=cols)\n",
        "d.head()"
      ],
      "metadata": {
        "id": "fHuXt2srv_2H"
      },
      "execution_count": null,
      "outputs": []
    },
    {
      "cell_type": "code",
      "source": [
        "#Replacing Inconsistent Values\n",
        "d = d.replace('dischromic  patches', 0)\n",
        "d = d.replace('spotting  urination',0)\n",
        "df = d.replace('foul smell of urine',0)\n",
        "df.head(10)"
      ],
      "metadata": {
        "id": "BAtn6FzIwFp0"
      },
      "execution_count": null,
      "outputs": []
    },
    {
      "cell_type": "markdown",
      "source": [
        "Data Visualization After Cleaning"
      ],
      "metadata": {
        "id": "yV91GYDA4h9n"
      }
    },
    {
      "cell_type": "code",
      "source": [
        "#Null Value Check After Cleaning\n",
        "null_checker = df.apply(lambda x: sum(x.isnull())).to_frame(name='count')\n",
        "print(null_checker)"
      ],
      "metadata": {
        "id": "cFelHftswJ5g"
      },
      "execution_count": null,
      "outputs": []
    },
    {
      "cell_type": "code",
      "source": [
        "#Visualizing Null Values After Cleaning\n",
        "plt.figure(figsize=(10,5))\n",
        "plt.plot(null_checker.index, null_checker['count'])\n",
        "plt.xticks(null_checker.index, null_checker.index, rotation=45,\n",
        "horizontalalignment='right')\n",
        "plt.title('After removing Null values')\n",
        "plt.xlabel('column names')\n",
        "plt.margins(0.01)\n",
        "plt.show()"
      ],
      "metadata": {
        "id": "i0NZc1SzwMqf"
      },
      "execution_count": null,
      "outputs": []
    },
    {
      "cell_type": "code",
      "source": [
        "#Symptom and Disease Count\n",
        "print(\"Number of symptoms used to identify the disease \",len(df1['Symptom'].unique()))\n",
        "print(\"Number of diseases that can be identified \",len(df['Disease'].unique()))\n",
        "df['Disease'].unique()"
      ],
      "metadata": {
        "id": "E8X8HEWIwPuN"
      },
      "execution_count": null,
      "outputs": []
    },
    {
      "cell_type": "markdown",
      "source": [
        "Data Splitting"
      ],
      "metadata": {
        "id": "7jVQXkW643Cj"
      }
    },
    {
      "cell_type": "code",
      "source": [
        "#Splitting the Data into Training, Validation, and Test Sets\n",
        "data = df.iloc[:,1:].values\n",
        "labels = df['Disease'].values\n",
        "x_train, x_test, y_train, y_test = train_test_split(data, labels, train_size = 0.8,random_state=42)\n",
        "x_train, x_test, y_train, y_test = train_test_split(data, labels, test_size=0.3,random_state=42)\n",
        "x_val, x_test, y_val, y_test = train_test_split(x_test,y_test,test_size=0.10/(0.30))\n",
        "print(x_train.shape, x_test.shape, y_train.shape, y_test.shape)"
      ],
      "metadata": {
        "id": "uUviT1tDwTrU"
      },
      "execution_count": null,
      "outputs": []
    },
    {
      "cell_type": "markdown",
      "source": [
        "Model Selection and Training"
      ],
      "metadata": {
        "id": "LW3AF-Hb5Ful"
      }
    },
    {
      "cell_type": "code",
      "source": [
        "#Choosing and Training the Model\n",
        "model = BaggingClassifier(estimator=Model_1,n_estimators=100,random_state=42)\n",
        "model.fit(x_train, y_train)"
      ],
      "metadata": {
        "id": "Q_zjo4tswh0s"
      },
      "execution_count": null,
      "outputs": []
    },
    {
      "cell_type": "code",
      "source": [
        "#Model Evaluation\n",
        "y_pred = model.predict(x_test)\n",
        "accuracy = accuracy_score(y_test, y_pred)\n",
        "print(f\"Accuracy: {accuracy:.4f}\")"
      ],
      "metadata": {
        "id": "XcHFNeBlwnJO"
      },
      "execution_count": null,
      "outputs": []
    },
    {
      "cell_type": "code",
      "source": [
        "#Loading the description and precaution dataset\n",
        "description = pd.read_csv(\"symptom_Description.csv\")\n",
        "precaution = pd.read_csv(\"symptom_precaution.csv\")"
      ],
      "metadata": {
        "id": "JMjxgPcpw8y6"
      },
      "execution_count": null,
      "outputs": []
    },
    {
      "cell_type": "code",
      "source": [
        "#Saving the Trained Model\n",
        "joblib.dump(model, \"model.pkl\")"
      ],
      "metadata": {
        "id": "kuH9RcPPxLDY"
      },
      "execution_count": null,
      "outputs": []
    }
  ]
}